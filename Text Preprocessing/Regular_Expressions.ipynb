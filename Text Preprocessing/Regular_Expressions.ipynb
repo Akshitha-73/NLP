{
  "cells": [
    {
      "cell_type": "markdown",
      "metadata": {
        "id": "n7rlwJ0Q7eVb"
      },
      "source": [
        "# Regular Expressions\n",
        "\n",
        "Regular expressions, or \"regex\" for short, is a special syntax for searching for strings that meets a specified pattern. It's a great tool to filter and sort through text when you want to match patterns rather than a hard coded string or strings.\n"
      ]
    },
    {
      "cell_type": "code",
      "execution_count": null,
      "metadata": {
        "id": "3YoqiuQE7eVe"
      },
      "outputs": [],
      "source": [
        "import re"
      ]
    },
    {
      "cell_type": "markdown",
      "metadata": {
        "id": "qmmQWDl57eVe"
      },
      "source": [
        "## Raw Strings\n",
        "\n",
        "Python recognises certain characters to have a special meaning, for example, \\n in python is used to indicate a new line. However, sometimes these codes that python recognises to have certain meanings appear in our strings and we want to tell python that a \\n in our text is a literal \\n, rather than meaning a new line.\n",
        "\n",
        "We can use the 'r' character before strings to indicate to python that our text is what is known as a \"raw string\"."
      ]
    },
    {
      "cell_type": "code",
      "execution_count": null,
      "metadata": {
        "colab": {
          "base_uri": "https://localhost:8080/"
        },
        "id": "jc-PS4Si7eVf",
        "outputId": "764c7853-0305-489d-f3af-bf32964342b4"
      },
      "outputs": [
        {
          "output_type": "stream",
          "name": "stdout",
          "text": [
            "C:\\desktop\n",
            "otes\n"
          ]
        }
      ],
      "source": [
        "# print text without using raw string indicator\n",
        "my_folder = \"C:\\desktop\\notes\"\n",
        "print(my_folder)"
      ]
    },
    {
      "cell_type": "markdown",
      "metadata": {
        "id": "jbHgKAeU7eVg"
      },
      "source": [
        "See how the python interprets the \\n to mean a new line! Now let's try it as a raw string..."
      ]
    },
    {
      "cell_type": "code",
      "execution_count": null,
      "metadata": {
        "colab": {
          "base_uri": "https://localhost:8080/"
        },
        "id": "3xo738TY7eVg",
        "outputId": "141cb4ef-1785-4dfa-d990-99067abfc6f5"
      },
      "outputs": [
        {
          "output_type": "stream",
          "name": "stdout",
          "text": [
            "C:\\desktop\\notes\n"
          ]
        }
      ],
      "source": [
        "# include raw string indicator\n",
        "my_folder = r\"C:\\desktop\\notes\"\n",
        "print(my_folder)"
      ]
    },
    {
      "cell_type": "markdown",
      "metadata": {
        "id": "z3q64BDV7eVh"
      },
      "source": [
        "The folder path is now printed as we wanted. This is important to keep in mind when working with regular expressions as we'll want to make sure we are using raw strings when working with special characters. It's also just a good habit to get into when working with strings and regular expressions so you don't get caught out!"
      ]
    },
    {
      "cell_type": "markdown",
      "metadata": {
        "id": "Nu_3LHbB7eVh"
      },
      "source": [
        "## re.search\n",
        "\n",
        "re.search is a function which allows us to check if a certain pattern is in a string. It uses the logic re.search(\"pattern to find\", \"string to find it in\"). It will return the pattern if it is found in the string, or else it will return None if the pattern is not found."
      ]
    },
    {
      "cell_type": "code",
      "execution_count": null,
      "metadata": {
        "colab": {
          "base_uri": "https://localhost:8080/"
        },
        "id": "wMwdTHy27eVh",
        "outputId": "a250782b-c7a3-4cb2-dd3d-6bee6ca86208"
      },
      "outputs": [
        {
          "output_type": "stream",
          "name": "stdout",
          "text": [
            "<re.Match object; span=(22, 29), match='pattern'>\n"
          ]
        }
      ],
      "source": [
        "result_search = re.search(\"pattern\", r\"string containing the pattern\")\n",
        "print(result_search)"
      ]
    },
    {
      "cell_type": "code",
      "execution_count": null,
      "metadata": {
        "colab": {
          "base_uri": "https://localhost:8080/"
        },
        "id": "Q1RFymvU7eVh",
        "outputId": "165c1576-bf9b-4fb4-d212-74398c63cfc2"
      },
      "outputs": [
        {
          "output_type": "stream",
          "name": "stdout",
          "text": [
            "pattern\n"
          ]
        }
      ],
      "source": [
        "print(result_search.group()) # returns just the matching pattern"
      ]
    },
    {
      "cell_type": "code",
      "execution_count": null,
      "metadata": {
        "id": "aFexQDT97eVi",
        "outputId": "c971aaf7-5028-4215-f27f-76ed41a13777"
      },
      "outputs": [
        {
          "name": "stdout",
          "output_type": "stream",
          "text": [
            "None\n"
          ]
        }
      ],
      "source": [
        "result_search = re.search(\"pattern\",r\"the phrase to find isn't in this string\")\n",
        "print(result_search) # returns None"
      ]
    },
    {
      "cell_type": "markdown",
      "metadata": {
        "id": "iL1ZJihp7eVi"
      },
      "source": [
        "## re.sub\n",
        "\n",
        "re.sub allows us to find certain text and replace it. It uses the logic re.sub(\"pattern to find\", \"replacement text\", \"string\")."
      ]
    },
    {
      "cell_type": "code",
      "execution_count": null,
      "metadata": {
        "id": "p_40k_vd7eVi"
      },
      "outputs": [],
      "source": [
        "string = r\"sara was able to help me find the items i needed quickly\""
      ]
    },
    {
      "cell_type": "code",
      "execution_count": null,
      "metadata": {
        "id": "y2tmyz2E7eVi",
        "outputId": "dfdf7b9b-6d8a-4e20-9e49-a53bc1968ba4"
      },
      "outputs": [
        {
          "name": "stdout",
          "output_type": "stream",
          "text": [
            "sarah was able to help me find the items i needed quickly\n"
          ]
        }
      ],
      "source": [
        "new_string = re.sub(r\"sara\", r\"sarah\", string) # replace the incorrect spelling of sarah\n",
        "print(new_string)"
      ]
    },
    {
      "cell_type": "markdown",
      "metadata": {
        "id": "TmK6JT2f7eVi"
      },
      "source": [
        "## Regex Syntax\n",
        "\n",
        "The real power of regex is being able to leverage the syntax to create more complex searches/replacements."
      ]
    },
    {
      "cell_type": "code",
      "execution_count": 6,
      "metadata": {
        "id": "V2IcB7as7eVi"
      },
      "outputs": [],
      "source": [
        "customer_reviews = ['sam was a great help to me in the store',\n",
        "                    'the cashier was very rude to me, I think her name was eleanor',\n",
        "                    'amazing work from sadeen!',\n",
        "                    'sarah was able to help me find the items i needed quickly',\n",
        "                    'lucy is such a great addition to the team',\n",
        "                    'great service from sara she found me what i wanted'\n",
        "                   ]"
      ]
    },
    {
      "cell_type": "markdown",
      "metadata": {
        "id": "kvvqkDBC7eVj"
      },
      "source": [
        "**Find only sarah's reviews but account for the spelling of sara**"
      ]
    },
    {
      "cell_type": "code",
      "source": [
        "o=[]\n",
        "for i in customer_reviews:\n",
        "    if re.search(\"sarah\",i):\n",
        "        o.append(i.strip())\n",
        "print(o)\n",
        ""
      ],
      "metadata": {
        "colab": {
          "base_uri": "https://localhost:8080/"
        },
        "id": "Ff8gVkGo-RK8",
        "outputId": "36f3a961-78e0-4970-9130-e25fa62a176e"
      },
      "execution_count": 7,
      "outputs": [
        {
          "output_type": "stream",
          "name": "stdout",
          "text": [
            "['sarah was able to help me find the items i needed quickly']\n"
          ]
        }
      ]
    },
    {
      "cell_type": "code",
      "execution_count": 8,
      "metadata": {
        "id": "umRj1Fys7eVj"
      },
      "outputs": [],
      "source": [
        "sarahs_reviews = []\n",
        "pattern_to_find = r\"sarah?\"\n",
        "# the ? after r means it is an optional character to match, so our search will look for sarah and sara"
      ]
    },
    {
      "cell_type": "code",
      "execution_count": 10,
      "metadata": {
        "id": "aQzs_C_h7eVj"
      },
      "outputs": [],
      "source": [
        "for i in customer_reviews:\n",
        "    if (re.search(pattern_to_find, i)):\n",
        "        sarahs_reviews.append(i)"
      ]
    },
    {
      "cell_type": "code",
      "execution_count": 11,
      "metadata": {
        "id": "Tu909TRA7eVj",
        "outputId": "7d2c7172-0de2-4292-a524-861fc9bb8bf3",
        "colab": {
          "base_uri": "https://localhost:8080/"
        }
      },
      "outputs": [
        {
          "output_type": "stream",
          "name": "stdout",
          "text": [
            "['sarah was able to help me find the items i needed quickly', 'great service from sara she found me what i wanted']\n"
          ]
        }
      ],
      "source": [
        "print(sarahs_reviews)"
      ]
    },
    {
      "cell_type": "markdown",
      "metadata": {
        "id": "IYM6Mims7eVj"
      },
      "source": [
        "**Find reviews that start with the letter a**"
      ]
    },
    {
      "cell_type": "code",
      "execution_count": 15,
      "metadata": {
        "id": "VS9-bob87eVj"
      },
      "outputs": [],
      "source": [
        "a_reviews = []\n",
        "pattern_to_find = r\"^a\" # the ^ operator to indicates the start of a string"
      ]
    },
    {
      "cell_type": "code",
      "source": [
        "for i in customer_reviews:\n",
        "    if (re.search(pattern_to_find,i.strip())):\n",
        "        a_reviews.append(i)\n",
        "print(a_reviews)"
      ],
      "metadata": {
        "colab": {
          "base_uri": "https://localhost:8080/"
        },
        "id": "5QJPiOby_T_J",
        "outputId": "aa5486a4-cf79-4994-c589-0aa0c3e682bc"
      },
      "execution_count": 16,
      "outputs": [
        {
          "output_type": "stream",
          "name": "stdout",
          "text": [
            "['amazing work from sadeen!']\n"
          ]
        }
      ]
    },
    {
      "cell_type": "code",
      "execution_count": 13,
      "metadata": {
        "id": "mPlFZN4a7eVj",
        "colab": {
          "base_uri": "https://localhost:8080/"
        },
        "outputId": "3db0de25-6d54-41e8-cbaa-011b4fc3d209"
      },
      "outputs": [
        {
          "output_type": "stream",
          "name": "stdout",
          "text": [
            "amazing work from sadeen!\n"
          ]
        }
      ],
      "source": [
        "for i in customer_reviews:\n",
        "    if re.match(r\"^a\", i.strip()):\n",
        "        print(i)"
      ]
    },
    {
      "cell_type": "code",
      "execution_count": null,
      "metadata": {
        "id": "DrpEV9Ks7eVj",
        "outputId": "703545a9-40c5-4e0d-cf61-20d05b5a54a0"
      },
      "outputs": [
        {
          "name": "stdout",
          "output_type": "stream",
          "text": [
            "['amazing work from sadeen!']\n"
          ]
        }
      ],
      "source": [
        "print(a_reviews)"
      ]
    },
    {
      "cell_type": "markdown",
      "metadata": {
        "id": "TvdNehaR7eVl"
      },
      "source": [
        "**Find reviews that end with the letter y**"
      ]
    },
    {
      "cell_type": "code",
      "execution_count": 17,
      "metadata": {
        "id": "wSW2msrn7eVl"
      },
      "outputs": [],
      "source": [
        "y_reviews = []\n",
        "pattern_to_find = r\"y$\" # the $ operator to indicate the end of a string"
      ]
    },
    {
      "cell_type": "code",
      "execution_count": 18,
      "metadata": {
        "id": "iYeYDnMo7eVl"
      },
      "outputs": [],
      "source": [
        "for string in customer_reviews:\n",
        "    if (re.search(pattern_to_find, string)):\n",
        "        y_reviews.append(string)"
      ]
    },
    {
      "cell_type": "code",
      "execution_count": 19,
      "metadata": {
        "id": "A5JEV0vT7eVl",
        "outputId": "7b3df436-3aed-4aa2-a40e-4f589796aebd",
        "colab": {
          "base_uri": "https://localhost:8080/"
        }
      },
      "outputs": [
        {
          "output_type": "stream",
          "name": "stdout",
          "text": [
            "['sarah was able to help me find the items i needed quickly']\n"
          ]
        }
      ],
      "source": [
        "print(y_reviews)"
      ]
    },
    {
      "cell_type": "markdown",
      "metadata": {
        "id": "bWVg9ne-7eVl"
      },
      "source": [
        "**Find reviews that contain the words needed or wanted**"
      ]
    },
    {
      "cell_type": "code",
      "execution_count": 20,
      "metadata": {
        "id": "VfFyfv3o7eVl"
      },
      "outputs": [],
      "source": [
        "# the pipe operator | can be used to mean OR"
      ]
    },
    {
      "cell_type": "code",
      "execution_count": 21,
      "metadata": {
        "id": "KRnaGqfL7eVl",
        "colab": {
          "base_uri": "https://localhost:8080/"
        },
        "outputId": "401fce8b-527c-418b-c9ff-1be51e8bf2e9"
      },
      "outputs": [
        {
          "output_type": "stream",
          "name": "stdout",
          "text": [
            "['sarah was able to help me find the items i needed quickly', 'great service from sara she found me what i wanted']\n"
          ]
        }
      ],
      "source": [
        "needwanted=[]\n",
        "for i in customer_reviews:\n",
        "    if (re.search(r'(need|want)ed',i)):\n",
        "        needwanted.append(i)\n",
        "print(needwanted)"
      ]
    },
    {
      "cell_type": "markdown",
      "metadata": {
        "id": "1GeB0iX87eVm"
      },
      "source": [
        "**Remove anything from the review that isn't a word or a space (i.e. remove punctuation)**"
      ]
    },
    {
      "cell_type": "code",
      "source": [
        "import string\n",
        "pun=string.punctuation\n",
        "pu=[]\n",
        "for i in customer_reviews:\n",
        "    if i not in pun:\n",
        "        pu.append(i)\n",
        "print(pu)"
      ],
      "metadata": {
        "colab": {
          "base_uri": "https://localhost:8080/"
        },
        "id": "FVJKH8uy_s1f",
        "outputId": "2e7fd94b-04b1-4f61-8b07-a5200d635590"
      },
      "execution_count": 23,
      "outputs": [
        {
          "output_type": "stream",
          "name": "stdout",
          "text": [
            "['sam was a great help to me in the store', 'the cashier was very rude to me, I think her name was eleanor', 'amazing work from sadeen!', 'sarah was able to help me find the items i needed quickly', 'lucy is such a great addition to the team', 'great service from sara she found me what i wanted']\n"
          ]
        }
      ]
    },
    {
      "cell_type": "code",
      "execution_count": 24,
      "metadata": {
        "id": "eQtDDTdI7eVm"
      },
      "outputs": [],
      "source": [
        "no_punct_reviews = []\n",
        "pattern_to_find = r\"[^\\w\\s]\"\n",
        "# [^ ] means \"not\", \\w means word and \\s means whitespace: so find anything that is not a word or a space"
      ]
    },
    {
      "cell_type": "code",
      "execution_count": 25,
      "metadata": {
        "id": "61Y-ILoc7eVm"
      },
      "outputs": [],
      "source": [
        "for string in customer_reviews:\n",
        "    no_punct_string = re.sub(pattern_to_find, \"\", string)\n",
        "    no_punct_reviews.append(no_punct_string)"
      ]
    },
    {
      "cell_type": "code",
      "execution_count": 26,
      "metadata": {
        "id": "mRADkcQZ7eVm",
        "outputId": "247cb362-7e12-42ba-97dc-9985cb58216e",
        "colab": {
          "base_uri": "https://localhost:8080/"
        }
      },
      "outputs": [
        {
          "output_type": "stream",
          "name": "stdout",
          "text": [
            "['sam was a great help to me in the store', 'the cashier was very rude to me I think her name was eleanor', 'amazing work from sadeen', 'sarah was able to help me find the items i needed quickly', 'lucy is such a great addition to the team', 'great service from sara she found me what i wanted']\n"
          ]
        }
      ],
      "source": [
        "print(no_punct_reviews)"
      ]
    },
    {
      "cell_type": "code",
      "execution_count": 27,
      "metadata": {
        "id": "PBWdFGAI7eVo"
      },
      "outputs": [],
      "source": []
    }
  ],
  "metadata": {
    "kernelspec": {
      "display_name": "Python 3 (ipykernel)",
      "language": "python",
      "name": "python3"
    },
    "language_info": {
      "codemirror_mode": {
        "name": "ipython",
        "version": 3
      },
      "file_extension": ".py",
      "mimetype": "text/x-python",
      "name": "python",
      "nbconvert_exporter": "python",
      "pygments_lexer": "ipython3",
      "version": "3.11.7"
    },
    "colab": {
      "provenance": []
    }
  },
  "nbformat": 4,
  "nbformat_minor": 0
}