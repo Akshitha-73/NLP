{
  "cells": [
    {
      "cell_type": "markdown",
      "metadata": {
        "id": "tPzy36fZCxUg"
      },
      "source": [
        "#Stemming\n",
        "\n",
        "The next step in preprocessing is to standardise the text. One option for this is stemming, where words are reduced to their base form. For example, words like ‘connecting’ or ‘connected’ will be stemmed to the base form ‘connect’. Stemming works by removing suffix/ending of word but can sometimes lead to the base form not being meaningful or a proper word.\n",
        "\n",
        "We standardize the text in this way because it will lower the number of unique words in our dataset; therefore reducing the size and complexity of our data. Removing complexity and noise from the data is an important step for preparing our data properly for machine learning."
      ]
    },
    {
      "cell_type": "code",
      "execution_count": 2,
      "metadata": {
        "id": "MTI3rAKPCxUi"
      },
      "outputs": [],
      "source": [
        "from nltk.stem import PorterStemmer"
      ]
    },
    {
      "cell_type": "code",
      "execution_count": 3,
      "metadata": {
        "id": "zeZ8K1TJCxUk"
      },
      "outputs": [],
      "source": [
        "# create stemmer\n",
        "ps = PorterStemmer()"
      ]
    },
    {
      "cell_type": "code",
      "execution_count": 4,
      "metadata": {
        "id": "A0MJITFyCxUk"
      },
      "outputs": [],
      "source": [
        "connect_tokens = ['connecting', 'connected', 'connectivity', 'connect', 'connects']"
      ]
    },
    {
      "cell_type": "code",
      "execution_count": 5,
      "metadata": {
        "colab": {
          "base_uri": "https://localhost:8080/"
        },
        "id": "Jm2FTQNnCxUl",
        "outputId": "e9460900-da2d-490f-f13e-40aeedf0747a"
      },
      "outputs": [
        {
          "output_type": "stream",
          "name": "stdout",
          "text": [
            "connecting  :  connect\n",
            "connected  :  connect\n",
            "connectivity  :  connect\n",
            "connect  :  connect\n",
            "connects  :  connect\n"
          ]
        }
      ],
      "source": [
        "for t in connect_tokens:\n",
        "    print(t, \" : \", ps.stem(t))"
      ]
    },
    {
      "cell_type": "code",
      "execution_count": 6,
      "metadata": {
        "id": "0qj122ThCxUn"
      },
      "outputs": [],
      "source": [
        "learn_tokens = ['learned', 'learning', 'learn', 'learns', 'learner', 'learners']"
      ]
    },
    {
      "cell_type": "code",
      "execution_count": 7,
      "metadata": {
        "colab": {
          "base_uri": "https://localhost:8080/"
        },
        "id": "BVX1SDDXCxUo",
        "outputId": "b88774fe-fd4a-41c9-dbc4-eb01929adde5"
      },
      "outputs": [
        {
          "output_type": "stream",
          "name": "stdout",
          "text": [
            "learned  :  learn\n",
            "learning  :  learn\n",
            "learn  :  learn\n",
            "learns  :  learn\n",
            "learner  :  learner\n",
            "learners  :  learner\n"
          ]
        }
      ],
      "source": [
        "for t in learn_tokens:\n",
        "    print(t, \" : \", ps.stem(t))"
      ]
    },
    {
      "cell_type": "code",
      "execution_count": 8,
      "metadata": {
        "id": "Lnwh6ceACxUo"
      },
      "outputs": [],
      "source": [
        "likes_tokens = ['likes', 'better', 'worse']"
      ]
    },
    {
      "cell_type": "code",
      "execution_count": 9,
      "metadata": {
        "colab": {
          "base_uri": "https://localhost:8080/"
        },
        "id": "ftThJpFnCxUo",
        "outputId": "642c15e5-4098-427b-fa9c-5b60d85649ec"
      },
      "outputs": [
        {
          "output_type": "stream",
          "name": "stdout",
          "text": [
            "likes  :  like\n",
            "better  :  better\n",
            "worse  :  wors\n"
          ]
        }
      ],
      "source": [
        "for t in likes_tokens:\n",
        "    print(t, \" : \", ps.stem(t))"
      ]
    },
    {
      "cell_type": "code",
      "execution_count": null,
      "metadata": {
        "id": "CuDekDJLCxUq"
      },
      "outputs": [],
      "source": []
    }
  ],
  "metadata": {
    "kernelspec": {
      "display_name": "Python 3 (ipykernel)",
      "language": "python",
      "name": "python3"
    },
    "language_info": {
      "codemirror_mode": {
        "name": "ipython",
        "version": 3
      },
      "file_extension": ".py",
      "mimetype": "text/x-python",
      "name": "python",
      "nbconvert_exporter": "python",
      "pygments_lexer": "ipython3",
      "version": "3.11.7"
    },
    "colab": {
      "provenance": []
    }
  },
  "nbformat": 4,
  "nbformat_minor": 0
}