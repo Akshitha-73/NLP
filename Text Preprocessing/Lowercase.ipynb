{
  "cells": [
    {
      "cell_type": "markdown",
      "source": [
        "# Lowercase"
      ],
      "metadata": {
        "id": "cqSdWTQnbBKn"
      }
    },
    {
      "cell_type": "code",
      "execution_count": null,
      "metadata": {
        "id": "z-gn2vu-a8d_",
        "outputId": "b6499802-c69f-453e-fc86-5587499c66e7"
      },
      "outputs": [
        {
          "name": "stdout",
          "output_type": "stream",
          "text": [
            "Her cat's name is Luna\n"
          ]
        }
      ],
      "source": [
        "sentence = \"Her cat's name is Luna\"\n",
        "print(sentence)"
      ]
    },
    {
      "cell_type": "code",
      "execution_count": null,
      "metadata": {
        "id": "vUL4ijdca8eA",
        "outputId": "3eecaae8-1471-4fec-afd2-b1876b39e148"
      },
      "outputs": [
        {
          "name": "stdout",
          "output_type": "stream",
          "text": [
            "her cat's name is luna\n"
          ]
        }
      ],
      "source": [
        "lower_sentence = sentence.lower()\n",
        "print(lower_sentence)"
      ]
    },
    {
      "cell_type": "code",
      "execution_count": null,
      "metadata": {
        "id": "PfPDPwg4a8eA",
        "outputId": "bf6fafd8-1ef8-4f02-c9f5-23b08217bbee"
      },
      "outputs": [
        {
          "name": "stdout",
          "output_type": "stream",
          "text": [
            "['Could you pass me the TV remote?', 'It is IMPOSSIBLE to find this hotel', 'Want to go for dinner on Tuesday?']\n"
          ]
        }
      ],
      "source": [
        "sentence_list = ['Could you pass me the TV remote?',\n",
        "                 'It is IMPOSSIBLE to find this hotel',\n",
        "                 'Want to go for dinner on Tuesday?']\n",
        "print(sentence_list)"
      ]
    },
    {
      "cell_type": "code",
      "execution_count": null,
      "metadata": {
        "id": "Za9WZFA2a8eA",
        "outputId": "dda7d6d7-a0ea-4125-83f3-bc2070e503f4"
      },
      "outputs": [
        {
          "name": "stdout",
          "output_type": "stream",
          "text": [
            "['could you pass me the tv remote?', 'it is impossible to find this hotel', 'want to go for dinner on tuesday?']\n"
          ]
        }
      ],
      "source": [
        "lower_sentence_list = [x.lower() for x in sentence_list]\n",
        "print(lower_sentence_list)"
      ]
    },
    {
      "cell_type": "code",
      "execution_count": null,
      "metadata": {
        "id": "6Umn1Akua8eA"
      },
      "outputs": [],
      "source": [
        "sent='I Am Akshitha'\n",
        "low=sent.lower()"
      ]
    },
    {
      "cell_type": "code",
      "execution_count": null,
      "metadata": {
        "id": "w89Xn_RQa8eA",
        "outputId": "3b67d0fa-70c8-4d6a-f9c1-16319fdaaeaa"
      },
      "outputs": [
        {
          "name": "stdout",
          "output_type": "stream",
          "text": [
            "i am akshitha\n"
          ]
        }
      ],
      "source": [
        "print(low)"
      ]
    }
  ],
  "metadata": {
    "kernelspec": {
      "display_name": "Python 3 (ipykernel)",
      "language": "python",
      "name": "python3"
    },
    "language_info": {
      "codemirror_mode": {
        "name": "ipython",
        "version": 3
      },
      "file_extension": ".py",
      "mimetype": "text/x-python",
      "name": "python",
      "nbconvert_exporter": "python",
      "pygments_lexer": "ipython3",
      "version": "3.11.7"
    },
    "colab": {
      "provenance": []
    }
  },
  "nbformat": 4,
  "nbformat_minor": 0
}
