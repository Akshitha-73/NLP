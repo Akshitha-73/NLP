{
  "nbformat": 4,
  "nbformat_minor": 0,
  "metadata": {
    "colab": {
      "provenance": []
    },
    "kernelspec": {
      "name": "python3",
      "display_name": "Python 3"
    },
    "language_info": {
      "name": "python"
    }
  },
  "cells": [
    {
      "cell_type": "code",
      "execution_count": 2,
      "metadata": {
        "id": "oG680h1pYLD_"
      },
      "outputs": [],
      "source": [
        "from textblob import TextBlob"
      ]
    },
    {
      "cell_type": "code",
      "source": [
        "sentence_1 = \"i had a great time at the movie it was really funny\"\n",
        "sentence_2 = \"i had a great time at the movie but the parking was terrible\"\n",
        "sentence_3 = \"i had a great time at the movie but the parking wasn't great\"\n",
        "sentence_4 = \"i went to see a movie\""
      ],
      "metadata": {
        "id": "FtxTYLbUY3zU"
      },
      "execution_count": 3,
      "outputs": []
    },
    {
      "cell_type": "code",
      "source": [
        "print(sentence_1)\n",
        "sentiment_score = TextBlob(sentence_1)\n",
        "print(sentiment_score.sentiment.polarity)"
      ],
      "metadata": {
        "colab": {
          "base_uri": "https://localhost:8080/"
        },
        "id": "tXpRJ_CibglW",
        "outputId": "6de2d06e-3fce-444c-c73f-c3ca08d42927"
      },
      "execution_count": 4,
      "outputs": [
        {
          "output_type": "stream",
          "name": "stdout",
          "text": [
            "i had a great time at the movie it was really funny\n",
            "0.525\n"
          ]
        }
      ]
    },
    {
      "cell_type": "markdown",
      "source": [
        "TextBlob returns a score between -1 and 1, where negative scores indicate negative sentiment, and positive scores indicate positive sentiment."
      ],
      "metadata": {
        "id": "CWEDpmTobmSe"
      }
    },
    {
      "cell_type": "code",
      "source": [
        "print(sentence_2)\n",
        "sentiment_score_2 = TextBlob(sentence_2)\n",
        "print(sentiment_score_2.sentiment.polarity)"
      ],
      "metadata": {
        "colab": {
          "base_uri": "https://localhost:8080/"
        },
        "id": "FMfnoqWRbmui",
        "outputId": "f414c034-abf5-4250-8903-eaf63b23fe88"
      },
      "execution_count": 5,
      "outputs": [
        {
          "output_type": "stream",
          "name": "stdout",
          "text": [
            "i had a great time at the movie but the parking was terrible\n",
            "-0.09999999999999998\n"
          ]
        }
      ]
    },
    {
      "cell_type": "code",
      "source": [
        "print(sentence_3)\n",
        "sentiment_score_3 = TextBlob(sentence_3)\n",
        "print(sentiment_score_3.sentiment.polarity)"
      ],
      "metadata": {
        "colab": {
          "base_uri": "https://localhost:8080/"
        },
        "id": "1cIYomvvboZB",
        "outputId": "ecf8ca9a-6ec7-4758-d4e6-a74e44349341"
      },
      "execution_count": 6,
      "outputs": [
        {
          "output_type": "stream",
          "name": "stdout",
          "text": [
            "i had a great time at the movie but the parking wasn't great\n",
            "0.8\n"
          ]
        }
      ]
    },
    {
      "cell_type": "code",
      "source": [
        "print(sentence_4)\n",
        "sentiment_score_4 = TextBlob(sentence_4)\n",
        "print(sentiment_score_4.sentiment.polarity)"
      ],
      "metadata": {
        "colab": {
          "base_uri": "https://localhost:8080/"
        },
        "id": "9-Em_BWzboVk",
        "outputId": "74061ea0-3d72-4134-a7bc-b950e2031dd7"
      },
      "execution_count": 8,
      "outputs": [
        {
          "output_type": "stream",
          "name": "stdout",
          "text": [
            "i went to see a movie\n",
            "0.0\n"
          ]
        }
      ]
    },
    {
      "cell_type": "markdown",
      "source": [
        "# VADER"
      ],
      "metadata": {
        "id": "3_4ax7BBb18-"
      }
    },
    {
      "cell_type": "code",
      "source": [
        "from vaderSentiment.vaderSentiment import SentimentIntensityAnalyzer"
      ],
      "metadata": {
        "id": "J7ASFwPAbzuy"
      },
      "execution_count": 11,
      "outputs": []
    },
    {
      "cell_type": "code",
      "source": [
        "vader_sentiment = SentimentIntensityAnalyzer()"
      ],
      "metadata": {
        "id": "CcPNYhTAb8nS"
      },
      "execution_count": 12,
      "outputs": []
    },
    {
      "cell_type": "code",
      "source": [
        "#The compond score gives us the overall score for the text and is scored the same as TextBlob between -1 and 1.\n",
        "\n"
      ],
      "metadata": {
        "id": "6n3GIRPbcAa_"
      },
      "execution_count": 14,
      "outputs": []
    },
    {
      "cell_type": "code",
      "source": [
        "print(sentence_1)\n",
        "print(vader_sentiment.polarity_scores(sentence_1))"
      ],
      "metadata": {
        "colab": {
          "base_uri": "https://localhost:8080/"
        },
        "id": "V244CO9WcEQm",
        "outputId": "37033b79-c364-417e-bda6-3e0a75bfefe5"
      },
      "execution_count": 15,
      "outputs": [
        {
          "output_type": "stream",
          "name": "stdout",
          "text": [
            "i had a great time at the movie it was really funny\n",
            "{'neg': 0.0, 'neu': 0.578, 'pos': 0.422, 'compound': 0.807}\n"
          ]
        }
      ]
    },
    {
      "cell_type": "code",
      "source": [
        "print(sentence_2)\n",
        "print(vader_sentiment.polarity_scores(sentence_2))"
      ],
      "metadata": {
        "colab": {
          "base_uri": "https://localhost:8080/"
        },
        "id": "2FENAF3IcHOr",
        "outputId": "c34f2e23-59b6-49c8-f7b5-2a62a59fef1c"
      },
      "execution_count": 16,
      "outputs": [
        {
          "output_type": "stream",
          "name": "stdout",
          "text": [
            "i had a great time at the movie but the parking was terrible\n",
            "{'neg': 0.234, 'neu': 0.621, 'pos': 0.144, 'compound': -0.3818}\n"
          ]
        }
      ]
    },
    {
      "cell_type": "code",
      "source": [
        "print(sentence_3)\n",
        "print(vader_sentiment.polarity_scores(sentence_3))"
      ],
      "metadata": {
        "colab": {
          "base_uri": "https://localhost:8080/"
        },
        "id": "qr5EpFsTcMIS",
        "outputId": "0e3f5cf9-d42f-4288-c249-fcedbc50fc1f"
      },
      "execution_count": 18,
      "outputs": [
        {
          "output_type": "stream",
          "name": "stdout",
          "text": [
            "i had a great time at the movie but the parking wasn't great\n",
            "{'neg': 0.247, 'neu': 0.611, 'pos': 0.142, 'compound': -0.4387}\n"
          ]
        }
      ]
    },
    {
      "cell_type": "code",
      "source": [
        "print(sentence_4)\n",
        "print(vader_sentiment.polarity_scores(sentence_4))"
      ],
      "metadata": {
        "colab": {
          "base_uri": "https://localhost:8080/"
        },
        "id": "37Lx6nBScOMi",
        "outputId": "2958b3e9-4bc3-45f2-d887-4649e2fa25a6"
      },
      "execution_count": 19,
      "outputs": [
        {
          "output_type": "stream",
          "name": "stdout",
          "text": [
            "i went to see a movie\n",
            "{'neg': 0.0, 'neu': 1.0, 'pos': 0.0, 'compound': 0.0}\n"
          ]
        }
      ]
    },
    {
      "cell_type": "code",
      "source": [],
      "metadata": {
        "id": "1EYdQBtecTUM"
      },
      "execution_count": null,
      "outputs": []
    }
  ]
}