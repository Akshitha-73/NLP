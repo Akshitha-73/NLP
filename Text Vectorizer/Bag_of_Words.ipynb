{
  "nbformat": 4,
  "nbformat_minor": 0,
  "metadata": {
    "colab": {
      "provenance": []
    },
    "kernelspec": {
      "name": "python3",
      "display_name": "Python 3"
    },
    "language_info": {
      "name": "python"
    }
  },
  "cells": [
    {
      "cell_type": "markdown",
      "source": [
        "# Bag of Words"
      ],
      "metadata": {
        "id": "PBCgrMBUtEwc"
      }
    },
    {
      "cell_type": "code",
      "execution_count": 1,
      "metadata": {
        "id": "kFqq171GtC9o"
      },
      "outputs": [],
      "source": [
        "import pandas as pd\n",
        "from sklearn.feature_extraction.text import CountVectorizer"
      ]
    },
    {
      "cell_type": "code",
      "source": [
        "data = [' Most shark attacks occur about 10 feet from the beach since that is where the people are',\n",
        "        'the efficiency with which he paired the socks in the drawer was quite admirable',\n",
        "        'carol drank the blood as if she were a vampire',\n",
        "        'giving directions that the mountains are to the west only works when you can see them',\n",
        "        'the sign said there was road work ahead so he decided to speed up',\n",
        "        'the gruff old man sat in the back of the bait shop grumbling to himself as he scooped out a handful of worms']"
      ],
      "metadata": {
        "id": "oswlHSRRtV-U"
      },
      "execution_count": 2,
      "outputs": []
    },
    {
      "cell_type": "code",
      "source": [
        "countvec=CountVectorizer()"
      ],
      "metadata": {
        "id": "DNDMNPW8tWNU"
      },
      "execution_count": 3,
      "outputs": []
    },
    {
      "cell_type": "code",
      "source": [
        "countvec_fit=countvec.fit_transform(data)"
      ],
      "metadata": {
        "id": "Srir-OHHtjeI"
      },
      "execution_count": 4,
      "outputs": []
    },
    {
      "cell_type": "code",
      "source": [
        "bag_of_words = pd.DataFrame(countvec_fit.toarray(), columns = countvec.get_feature_names_out())"
      ],
      "metadata": {
        "id": "i_2itm2Kt3Pn"
      },
      "execution_count": 6,
      "outputs": []
    },
    {
      "cell_type": "code",
      "source": [
        "print(bag_of_words)"
      ],
      "metadata": {
        "colab": {
          "base_uri": "https://localhost:8080/"
        },
        "id": "qiimSm3Ht5RY",
        "outputId": "9eb02294-4dbe-490a-f92f-9f5b83c1f9a9"
      },
      "execution_count": 7,
      "outputs": [
        {
          "output_type": "stream",
          "name": "stdout",
          "text": [
            "   10  about  admirable  ahead  are  as  attacks  back  bait  beach  ...  \\\n",
            "0   1      1          0      0    1   0        1     0     0      1  ...   \n",
            "1   0      0          1      0    0   0        0     0     0      0  ...   \n",
            "2   0      0          0      0    0   1        0     0     0      0  ...   \n",
            "3   0      0          0      0    1   0        0     0     0      0  ...   \n",
            "4   0      0          0      1    0   0        0     0     0      0  ...   \n",
            "5   0      0          0      0    0   1        0     1     1      0  ...   \n",
            "\n",
            "   were  west  when  where  which  with  work  works  worms  you  \n",
            "0     0     0     0      1      0     0     0      0      0    0  \n",
            "1     0     0     0      0      1     1     0      0      0    0  \n",
            "2     1     0     0      0      0     0     0      0      0    0  \n",
            "3     0     1     1      0      0     0     0      1      0    1  \n",
            "4     0     0     0      0      0     0     1      0      0    0  \n",
            "5     0     0     0      0      0     0     0      0      1    0  \n",
            "\n",
            "[6 rows x 71 columns]\n"
          ]
        }
      ]
    },
    {
      "cell_type": "code",
      "source": [],
      "metadata": {
        "id": "wVwrGbT2uD7V"
      },
      "execution_count": null,
      "outputs": []
    }
  ]
}