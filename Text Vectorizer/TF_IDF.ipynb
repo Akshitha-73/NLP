{
  "nbformat": 4,
  "nbformat_minor": 0,
  "metadata": {
    "colab": {
      "provenance": []
    },
    "kernelspec": {
      "name": "python3",
      "display_name": "Python 3"
    },
    "language_info": {
      "name": "python"
    }
  },
  "cells": [
    {
      "cell_type": "code",
      "execution_count": 1,
      "metadata": {
        "id": "igF9QeibuVZq"
      },
      "outputs": [],
      "source": [
        "import pandas as pd\n",
        "from sklearn.feature_extraction.text import TfidfVectorizer"
      ]
    },
    {
      "cell_type": "code",
      "source": [
        "data = [' Most shark attacks occur about 10 feet from the beach since that is where the people are',\n",
        "        'the efficiency with which he paired the socks in the drawer was quite admirable',\n",
        "        'carol drank the blood as if she were a vampire',\n",
        "        'giving directions that the mountains are to the west only works when you can see them',\n",
        "        'the sign said there was road work ahead so he decided to speed up',\n",
        "        'the gruff old man sat in the back of the bait shop grumbling to himself as he scooped out a handful of worms']"
      ],
      "metadata": {
        "id": "Fm_fCbJ0ulcp"
      },
      "execution_count": 2,
      "outputs": []
    },
    {
      "cell_type": "code",
      "source": [
        "tfidfvec=TfidfVectorizer()\n",
        "tfidfvec_fit=tfidfvec.fit_transform(data)\n"
      ],
      "metadata": {
        "id": "u7ecNX4OusXm"
      },
      "execution_count": 3,
      "outputs": []
    },
    {
      "cell_type": "code",
      "source": [
        "tfidf_bag=pd.DataFrame(tfidfvec_fit.toarray(),columns=tfidfvec.get_feature_names_out())"
      ],
      "metadata": {
        "id": "47KeEzYuu_Mf"
      },
      "execution_count": 5,
      "outputs": []
    },
    {
      "cell_type": "code",
      "source": [
        "print(tfidf_bag)"
      ],
      "metadata": {
        "colab": {
          "base_uri": "https://localhost:8080/"
        },
        "id": "CD_OtNCwvSUX",
        "outputId": "cdf76179-5d84-494c-a38c-9db76eb34685"
      },
      "execution_count": 6,
      "outputs": [
        {
          "output_type": "stream",
          "name": "stdout",
          "text": [
            "         10     about  admirable     ahead       are        as   attacks  \\\n",
            "0  0.257061  0.257061   0.000000  0.000000  0.210794  0.000000  0.257061   \n",
            "1  0.000000  0.000000   0.293641  0.000000  0.000000  0.000000  0.000000   \n",
            "2  0.000000  0.000000   0.000000  0.000000  0.000000  0.292313  0.000000   \n",
            "3  0.000000  0.000000   0.000000  0.000000  0.222257  0.000000  0.000000   \n",
            "4  0.000000  0.000000   0.000000  0.290766  0.000000  0.000000  0.000000   \n",
            "5  0.000000  0.000000   0.000000  0.000000  0.000000  0.178615  0.000000   \n",
            "\n",
            "      back     bait     beach  ...      were     west     when     where  \\\n",
            "0  0.00000  0.00000  0.257061  ...  0.000000  0.00000  0.00000  0.257061   \n",
            "1  0.00000  0.00000  0.000000  ...  0.000000  0.00000  0.00000  0.000000   \n",
            "2  0.00000  0.00000  0.000000  ...  0.356474  0.00000  0.00000  0.000000   \n",
            "3  0.00000  0.00000  0.000000  ...  0.000000  0.27104  0.27104  0.000000   \n",
            "4  0.00000  0.00000  0.000000  ...  0.000000  0.00000  0.00000  0.000000   \n",
            "5  0.21782  0.21782  0.000000  ...  0.000000  0.00000  0.00000  0.000000   \n",
            "\n",
            "      which      with      work    works    worms      you  \n",
            "0  0.000000  0.000000  0.000000  0.00000  0.00000  0.00000  \n",
            "1  0.293641  0.293641  0.000000  0.00000  0.00000  0.00000  \n",
            "2  0.000000  0.000000  0.000000  0.00000  0.00000  0.00000  \n",
            "3  0.000000  0.000000  0.000000  0.27104  0.00000  0.27104  \n",
            "4  0.000000  0.000000  0.290766  0.00000  0.00000  0.00000  \n",
            "5  0.000000  0.000000  0.000000  0.00000  0.21782  0.00000  \n",
            "\n",
            "[6 rows x 71 columns]\n"
          ]
        }
      ]
    },
    {
      "cell_type": "code",
      "source": [],
      "metadata": {
        "id": "Ab7hJDjPvZ6C"
      },
      "execution_count": null,
      "outputs": []
    }
  ]
}